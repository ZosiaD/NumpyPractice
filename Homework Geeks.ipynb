{
 "cells": [
  {
   "cell_type": "code",
   "execution_count": 1,
   "id": "b8ef296f",
   "metadata": {},
   "outputs": [],
   "source": [
    "import numpy as np\n"
   ]
  },
  {
   "cell_type": "code",
   "execution_count": 54,
   "id": "961b882e",
   "metadata": {},
   "outputs": [],
   "source": [
    "foo = np.array([[2,np.nan,7,15],[4,6,np.nan,12],[3, 55,12,6]])"
   ]
  },
  {
   "cell_type": "code",
   "execution_count": 55,
   "id": "6a620e58",
   "metadata": {},
   "outputs": [
    {
     "data": {
      "text/plain": [
       "array([[ 2., nan,  7., 15.],\n",
       "       [ 4.,  6., nan, 12.],\n",
       "       [ 3., 55., 12.,  6.]])"
      ]
     },
     "execution_count": 55,
     "metadata": {},
     "output_type": "execute_result"
    }
   ],
   "source": [
    "foo"
   ]
  },
  {
   "cell_type": "code",
   "execution_count": 68,
   "id": "ac61f9b7",
   "metadata": {},
   "outputs": [],
   "source": [
    "col = np.nanmean(foo, axis = 0)"
   ]
  },
  {
   "cell_type": "code",
   "execution_count": 69,
   "id": "e6c5fa04",
   "metadata": {},
   "outputs": [],
   "source": [
    "bar = np.where(np.isnan(foo))"
   ]
  },
  {
   "cell_type": "code",
   "execution_count": 77,
   "id": "4b4f6148",
   "metadata": {},
   "outputs": [
    {
     "data": {
      "text/plain": [
       "array([[ 2. , 30.5,  7. , 15. ],\n",
       "       [ 4. ,  6. ,  9.5, 12. ],\n",
       "       [ 3. , 55. , 12. ,  6. ]])"
      ]
     },
     "execution_count": 77,
     "metadata": {},
     "output_type": "execute_result"
    }
   ],
   "source": [
    "foo[bar] = np.take(col, bar[1])\n",
    "foo"
   ]
  },
  {
   "cell_type": "markdown",
   "id": "72bb7d7a",
   "metadata": {},
   "source": [
    "# task 2 "
   ]
  },
  {
   "cell_type": "code",
   "execution_count": 80,
   "id": "3c676e5a",
   "metadata": {},
   "outputs": [
    {
     "data": {
      "text/plain": [
       "array([[ 1,  2, -5, -9],\n",
       "       [-2, -5, -1,  5],\n",
       "       [ 1,  4, -2,  7]])"
      ]
     },
     "execution_count": 80,
     "metadata": {},
     "output_type": "execute_result"
    }
   ],
   "source": [
    "a = np.array([[1,2,-5,-9],[-2, -5, -1, 5],[1,4,-2,7]])\n",
    "a"
   ]
  },
  {
   "cell_type": "code",
   "execution_count": 81,
   "id": "4bcf1da0",
   "metadata": {},
   "outputs": [
    {
     "data": {
      "text/plain": [
       "array([[False, False,  True,  True],\n",
       "       [ True,  True,  True, False],\n",
       "       [False, False,  True, False]])"
      ]
     },
     "execution_count": 81,
     "metadata": {},
     "output_type": "execute_result"
    }
   ],
   "source": [
    "a < 0"
   ]
  },
  {
   "cell_type": "code",
   "execution_count": 82,
   "id": "43cb8d62",
   "metadata": {},
   "outputs": [],
   "source": [
    "a[a<0] = 0"
   ]
  },
  {
   "cell_type": "code",
   "execution_count": 83,
   "id": "90a68d7d",
   "metadata": {},
   "outputs": [
    {
     "data": {
      "text/plain": [
       "array([[1, 2, 0, 0],\n",
       "       [0, 0, 0, 5],\n",
       "       [1, 4, 0, 7]])"
      ]
     },
     "execution_count": 83,
     "metadata": {},
     "output_type": "execute_result"
    }
   ],
   "source": [
    "a"
   ]
  },
  {
   "cell_type": "code",
   "execution_count": null,
   "id": "0ab5b859",
   "metadata": {},
   "outputs": [],
   "source": []
  },
  {
   "cell_type": "code",
   "execution_count": null,
   "id": "5fa1919e",
   "metadata": {},
   "outputs": [],
   "source": []
  }
 ],
 "metadata": {
  "kernelspec": {
   "display_name": "Python 3",
   "language": "python",
   "name": "python3"
  },
  "language_info": {
   "codemirror_mode": {
    "name": "ipython",
    "version": 3
   },
   "file_extension": ".py",
   "mimetype": "text/x-python",
   "name": "python",
   "nbconvert_exporter": "python",
   "pygments_lexer": "ipython3",
   "version": "3.8.8"
  }
 },
 "nbformat": 4,
 "nbformat_minor": 5
}
