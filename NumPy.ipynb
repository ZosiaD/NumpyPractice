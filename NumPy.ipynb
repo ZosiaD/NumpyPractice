{
 "cells": [
  {
   "cell_type": "markdown",
   "id": "2b564c9e",
   "metadata": {},
   "source": [
    "Return the indices of elements where the given condition is satisfied\n",
    "\n"
   ]
  },
  {
   "cell_type": "code",
   "execution_count": 57,
   "id": "3fc5f59f",
   "metadata": {},
   "outputs": [],
   "source": [
    "import numpy as np"
   ]
  },
  {
   "cell_type": "code",
   "execution_count": 58,
   "id": "a83a23ba",
   "metadata": {},
   "outputs": [],
   "source": [
    "foo = np.arange(start=1, stop=9)"
   ]
  },
  {
   "cell_type": "code",
   "execution_count": 59,
   "id": "9fb68290",
   "metadata": {},
   "outputs": [
    {
     "name": "stdout",
     "output_type": "stream",
     "text": [
      "[1 2 3 4 5 6 7 8]\n"
     ]
    }
   ],
   "source": [
    "print(foo)"
   ]
  },
  {
   "cell_type": "code",
   "execution_count": 60,
   "id": "80c5ec5a",
   "metadata": {},
   "outputs": [
    {
     "name": "stdout",
     "output_type": "stream",
     "text": [
      "0\n",
      "2\n",
      "4\n",
      "6\n"
     ]
    }
   ],
   "source": [
    "for i in foo:\n",
    "    if i % 2:\n",
    "        print(list(foo).index(i))\n",
    "    "
   ]
  },
  {
   "cell_type": "markdown",
   "id": "14114f01",
   "metadata": {},
   "source": [
    "Find indices of elements equal to zero in a NumPy array"
   ]
  },
  {
   "cell_type": "code",
   "execution_count": 66,
   "id": "de22e64a",
   "metadata": {},
   "outputs": [
    {
     "name": "stdout",
     "output_type": "stream",
     "text": [
      "[12 12 15  0  6 13  3  2  9 17]\n"
     ]
    }
   ],
   "source": [
    "\n",
    "bar = np.random.randint(19, size=10)\n",
    "print(bar)"
   ]
  },
  {
   "cell_type": "code",
   "execution_count": 67,
   "id": "507376df",
   "metadata": {},
   "outputs": [
    {
     "name": "stdout",
     "output_type": "stream",
     "text": [
      "3\n"
     ]
    }
   ],
   "source": [
    "for i in bar:\n",
    "    if i == 0:\n",
    "        print(list(bar).index(i))\n",
    "        \n"
   ]
  },
  {
   "cell_type": "markdown",
   "id": "763b6999",
   "metadata": {},
   "source": [
    "How to get values of NumPy array at certain index position\n"
   ]
  },
  {
   "cell_type": "code",
   "execution_count": 70,
   "id": "a3e46345",
   "metadata": {},
   "outputs": [
    {
     "name": "stdout",
     "output_type": "stream",
     "text": [
      "[ 9 10  7  5 13  0 12  7  4 14]\n"
     ]
    }
   ],
   "source": [
    "bim = np.random.randint(19, size=10)\n",
    "print(bim)"
   ]
  },
  {
   "cell_type": "code",
   "execution_count": 72,
   "id": "b4bf87a5",
   "metadata": {},
   "outputs": [
    {
     "name": "stdout",
     "output_type": "stream",
     "text": [
      "please enter the number of integer from array5\n",
      "13\n"
     ]
    }
   ],
   "source": [
    "x = int(input('please enter the number of integer from array'))\n",
    "print(bim[x-1])"
   ]
  },
  {
   "cell_type": "code",
   "execution_count": null,
   "id": "e8ee6193",
   "metadata": {},
   "outputs": [],
   "source": []
  }
 ],
 "metadata": {
  "kernelspec": {
   "display_name": "Python 3",
   "language": "python",
   "name": "python3"
  },
  "language_info": {
   "codemirror_mode": {
    "name": "ipython",
    "version": 3
   },
   "file_extension": ".py",
   "mimetype": "text/x-python",
   "name": "python",
   "nbconvert_exporter": "python",
   "pygments_lexer": "ipython3",
   "version": "3.8.8"
  }
 },
 "nbformat": 4,
 "nbformat_minor": 5
}
