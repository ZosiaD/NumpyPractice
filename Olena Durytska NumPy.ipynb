{
 "cells": [
  {
   "cell_type": "markdown",
   "metadata": {},
   "source": [
    "# How to access different rows of a multidimensional NumPy array?\n"
   ]
  },
  {
   "cell_type": "code",
   "execution_count": 1,
   "metadata": {},
   "outputs": [
    {
     "name": "stdout",
     "output_type": "stream",
     "text": [
      "[[128   2 134   8]\n",
      " [  2  44   3   4]\n",
      " [  2   1   5   6]]\n"
     ]
    }
   ],
   "source": [
    "import numpy \n",
    "mass = numpy.array([[128,2,134,8],[2,44,3,4],[2,1,5,6]]) \n",
    "print(mass)"
   ]
  },
  {
   "cell_type": "code",
   "execution_count": 2,
   "metadata": {},
   "outputs": [
    {
     "data": {
      "text/plain": [
       "array([[128,   2, 134,   8],\n",
       "       [  2,  44,   3,   4],\n",
       "       [  2,   1,   5,   6]])"
      ]
     },
     "execution_count": 2,
     "metadata": {},
     "output_type": "execute_result"
    }
   ],
   "source": [
    "mass"
   ]
  },
  {
   "cell_type": "code",
   "execution_count": 5,
   "metadata": {},
   "outputs": [
    {
     "name": "stdout",
     "output_type": "stream",
     "text": [
      "[[128   2 134   8]\n",
      " [  2  44   3   4]]\n"
     ]
    }
   ],
   "source": [
    "mass_res = mass[[0,1]]\n",
    "print(mass_res)"
   ]
  },
  {
   "cell_type": "markdown",
   "metadata": {},
   "source": [
    "# Get row numbers of NumPy array having element larger than X"
   ]
  },
  {
   "cell_type": "code",
   "execution_count": 7,
   "metadata": {},
   "outputs": [
    {
     "name": "stdout",
     "output_type": "stream",
     "text": [
      "[[128   2 134   8]\n",
      " [  2  44   3   4]\n",
      " [  2   1   5   6]]\n"
     ]
    }
   ],
   "source": [
    "import numpy \n",
    "mass = numpy.array([[128,2,134,8],[2,44,3,4],[2,1,5,6]]) \n",
    "print(mass)"
   ]
  },
  {
   "cell_type": "code",
   "execution_count": 8,
   "metadata": {},
   "outputs": [
    {
     "name": "stdout",
     "output_type": "stream",
     "text": [
      "(array([0, 1], dtype=int32),)\n"
     ]
    }
   ],
   "source": [
    "E = 10\n",
    "out = numpy.where(numpy.any(mass > E, axis = 1 ))\n",
    "print(out)"
   ]
  },
  {
   "cell_type": "markdown",
   "metadata": {},
   "source": [
    "# Get filled the diagonals of NumPy array"
   ]
  },
  {
   "cell_type": "code",
   "execution_count": 9,
   "metadata": {},
   "outputs": [
    {
     "name": "stdout",
     "output_type": "stream",
     "text": [
      "[[128   2 134]\n",
      " [  2  44   3]\n",
      " [  2   1   5]]\n"
     ]
    }
   ],
   "source": [
    "import numpy \n",
    "mass = numpy.array([[128,2,134],[2,44,3],[2,1,5]]) \n",
    "print(mass)"
   ]
  },
  {
   "cell_type": "code",
   "execution_count": 10,
   "metadata": {},
   "outputs": [
    {
     "name": "stdout",
     "output_type": "stream",
     "text": [
      "[[  0   2 134]\n",
      " [  2   0   3]\n",
      " [  2   1   0]]\n"
     ]
    }
   ],
   "source": [
    "numpy.fill_diagonal(mass, 0)\n",
    "print(mass)"
   ]
  },
  {
   "cell_type": "code",
   "execution_count": null,
   "metadata": {},
   "outputs": [],
   "source": []
  }
 ],
 "metadata": {
  "kernelspec": {
   "display_name": "Python 3",
   "language": "python",
   "name": "python3"
  },
  "language_info": {
   "codemirror_mode": {
    "name": "ipython",
    "version": 3
   },
   "file_extension": ".py",
   "mimetype": "text/x-python",
   "name": "python",
   "nbconvert_exporter": "python",
   "pygments_lexer": "ipython3",
   "version": "3.8.5"
  }
 },
 "nbformat": 4,
 "nbformat_minor": 4
}
