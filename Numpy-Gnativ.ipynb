{
 "cells": [
  {
   "cell_type": "markdown",
   "id": "c994a657",
   "metadata": {},
   "source": [
    "# 1. Check elements present in the Numpy array\n"
   ]
  },
  {
   "cell_type": "code",
   "execution_count": 6,
   "id": "6a95f559",
   "metadata": {},
   "outputs": [],
   "source": [
    "import numpy as np"
   ]
  },
  {
   "cell_type": "markdown",
   "id": "9140b55a",
   "metadata": {},
   "source": [
    "# Example 1"
   ]
  },
  {
   "cell_type": "code",
   "execution_count": 16,
   "id": "16802e5f",
   "metadata": {},
   "outputs": [],
   "source": [
    "n_array1  = np.array([[2,  6,  11],\n",
    "                     [16,  21,  26],\n",
    "                     [31, 36, 41]])"
   ]
  },
  {
   "cell_type": "code",
   "execution_count": 17,
   "id": "3a061d6b",
   "metadata": {},
   "outputs": [
    {
     "name": "stdout",
     "output_type": "stream",
     "text": [
      "Array: [[ 2  6 11]\n",
      " [16 21 26]\n",
      " [31 36 41]]\n"
     ]
    }
   ],
   "source": [
    "print('Array:', n_array1)"
   ]
  },
  {
   "cell_type": "code",
   "execution_count": 22,
   "id": "6097b212",
   "metadata": {
    "scrolled": false
   },
   "outputs": [
    {
     "name": "stdout",
     "output_type": "stream",
     "text": [
      "[[ True False  True]\n",
      " [False False False]\n",
      " [False  True False]]\n"
     ]
    }
   ],
   "source": [
    "print(n_array1 == (2, 36, 11))"
   ]
  },
  {
   "cell_type": "markdown",
   "id": "c811c477",
   "metadata": {},
   "source": [
    "# Example 2"
   ]
  },
  {
   "cell_type": "code",
   "execution_count": 25,
   "id": "4ccec614",
   "metadata": {},
   "outputs": [],
   "source": [
    "n_array2 =  np.array([[0,  17,  36],\n",
    "                     [215,  38,  73],\n",
    "                     [22, 52, 64]])\n",
    "n_array3 =  np.array([[2,  6,  11],\n",
    "                     [16,  0,  21],\n",
    "                     [12, 23, 17]])"
   ]
  },
  {
   "cell_type": "code",
   "execution_count": 26,
   "id": "af132678",
   "metadata": {},
   "outputs": [
    {
     "data": {
      "text/plain": [
       "array([ True,  True, False, False, False, False, False, False, False])"
      ]
     },
     "execution_count": 26,
     "metadata": {},
     "output_type": "execute_result"
    }
   ],
   "source": [
    "check_elements = np.in1d(n_array2, n_array3)\n",
    "check_elements"
   ]
  },
  {
   "cell_type": "markdown",
   "id": "91d778e0",
   "metadata": {},
   "source": [
    "# Example 3"
   ]
  },
  {
   "cell_type": "code",
   "execution_count": 33,
   "id": "d61fb1de",
   "metadata": {},
   "outputs": [
    {
     "name": "stdout",
     "output_type": "stream",
     "text": [
      "True False True\n"
     ]
    }
   ],
   "source": [
    "n_array = np.array([[2,  6,  11],\n",
    "                     [16,  21,  26],\n",
    "                     [31, 36, 41]])\n",
    "n_array\n",
    "print(6 in n_array, 15 in n_array, 41 in n_array )"
   ]
  },
  {
   "cell_type": "markdown",
   "id": "d90d8b3a",
   "metadata": {},
   "source": [
    "# 2. How to get values of an array at certain index positions?"
   ]
  },
  {
   "cell_type": "markdown",
   "id": "c1349e8b",
   "metadata": {},
   "source": [
    "# Example 1"
   ]
  },
  {
   "cell_type": "code",
   "execution_count": 81,
   "id": "413f2371",
   "metadata": {
    "scrolled": true
   },
   "outputs": [
    {
     "name": "stdout",
     "output_type": "stream",
     "text": [
      "First array:\n",
      "[[ 7 23  1]\n",
      " [91  3 67]]\n",
      "Second array:\n",
      "[0 0 0]\n",
      "Result:\n",
      "[[ 0 23  1]\n",
      " [ 0  3  0]]\n"
     ]
    }
   ],
   "source": [
    "array1  = np.array([[7,  23,  1],\n",
    "                    [91,  3, 67]])\n",
    "print('First array:')\n",
    "print(array1)  \n",
    "array2  = np.array([0,  0,  0])\n",
    "print(\"Second array:\")\n",
    "print(array2)\n",
    "\n",
    "array1.put([0,  3, 5], array2) #take list of 0 from array2 and put them in 1st, 4th and 6th positions of array1\n",
    "print('Result:')\n",
    "print(array1)\n"
   ]
  },
  {
   "cell_type": "markdown",
   "id": "d969ecbc",
   "metadata": {},
   "source": [
    "# Example 2"
   ]
  },
  {
   "cell_type": "code",
   "execution_count": 125,
   "id": "809ede45",
   "metadata": {},
   "outputs": [
    {
     "name": "stdout",
     "output_type": "stream",
     "text": [
      "[ 17 215  73]\n"
     ]
    }
   ],
   "source": [
    "n_array4 = np.array([0, 17, 36, 215, 28, 73, 22])\n",
    "ind_pos = np.array([1,3,5])\n",
    "\n",
    "print(n_array4[ind_pos])"
   ]
  },
  {
   "cell_type": "markdown",
   "id": "c415e286",
   "metadata": {},
   "source": [
    "# Example 3"
   ]
  },
  {
   "cell_type": "code",
   "execution_count": 127,
   "id": "9bf33cfe",
   "metadata": {},
   "outputs": [
    {
     "data": {
      "text/plain": [
       "array([2])"
      ]
     },
     "execution_count": 127,
     "metadata": {},
     "output_type": "execute_result"
    }
   ],
   "source": [
    "n_array5  = np.array([[2,  6,  11], \n",
    "                     [16,  21,  26],\n",
    "                     [31, 36, 41]])\n",
    "n_array5[[0], [0]]"
   ]
  },
  {
   "cell_type": "code",
   "execution_count": null,
   "id": "eca9641d",
   "metadata": {},
   "outputs": [],
   "source": []
  }
 ],
 "metadata": {
  "kernelspec": {
   "display_name": "Python 3 (ipykernel)",
   "language": "python",
   "name": "python3"
  },
  "language_info": {
   "codemirror_mode": {
    "name": "ipython",
    "version": 3
   },
   "file_extension": ".py",
   "mimetype": "text/x-python",
   "name": "python",
   "nbconvert_exporter": "python",
   "pygments_lexer": "ipython3",
   "version": "3.9.7"
  }
 },
 "nbformat": 4,
 "nbformat_minor": 5
}
